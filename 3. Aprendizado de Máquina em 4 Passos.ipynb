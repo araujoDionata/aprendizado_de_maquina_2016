{
 "cells": [
  {
   "cell_type": "markdown",
   "metadata": {},
   "source": [
    "# Aprendizado de Máquina em 4 Passos"
   ]
  },
  {
   "cell_type": "markdown",
   "metadata": {},
   "source": [
    "## 1º Passo: Preparando o conjunto de dados"
   ]
  },
  {
   "cell_type": "markdown",
   "metadata": {},
   "source": [
    "O principal objetivo de um modelo de ML é desenvolver a capacidade **generalizar** um problema a partir de dados, para então, solucionar \"casos\" do mesmo problema nunca antes \"vistos\" pelo modelo.\n",
    "\n",
    ">Se você dar ao modelo o suficiente de dados adequados, ele pode aproximar qualquer função arbitrariamente. O que matematicamente falando, ele pode aprender qualquer coisa. <cite> Pedro Domingos, The Master Algorithm </cite>\n",
    "\n",
    "Então como podemos garantir que nosso modelo foi treinado de forma a ser capaz de generalizar nosso problema?\n",
    "\n",
    "Utilizando uma técnica chamada de **Validação Cruzada**."
   ]
  },
  {
   "cell_type": "code",
   "execution_count": null,
   "metadata": {
    "collapsed": true
   },
   "outputs": [],
   "source": [
    "from sklearn.datasets import load_digits\n",
    "digits = load_digits() #Carrega o dataset na variável digits"
   ]
  },
  {
   "cell_type": "markdown",
   "metadata": {},
   "source": [
    "## Tarefa: Carregue os dados e os labels do conjunto de dados Dígitos."
   ]
  },
  {
   "cell_type": "code",
   "execution_count": null,
   "metadata": {
    "collapsed": false
   },
   "outputs": [],
   "source": [
    "X,y = digits.data, digits.target\n",
    "\n",
    "print \"Meus dados: \" ,X\n",
    "\n",
    "print \"Meus labels: \", y"
   ]
  },
  {
   "cell_type": "code",
   "execution_count": null,
   "metadata": {
    "collapsed": true
   },
   "outputs": [],
   "source": [
    "from sklearn.cross_validation import train_test_split #Importando a biblioteca de validação cruzada\n",
    "\n",
    "X_train, X_test, y_train, y_test = train_test_split(X,y, test_size = 0.25, random_state = 42)\n",
    "\n"
   ]
  },
  {
   "cell_type": "code",
   "execution_count": null,
   "metadata": {
    "collapsed": false
   },
   "outputs": [],
   "source": [
    "print \"Meu conjunto de treino tem o tamanho de: \", X_train.shape\n",
    "\n",
    "print \"Meu conjunto de teste tem o tamanho de: \", X_test.shape"
   ]
  },
  {
   "cell_type": "markdown",
   "metadata": {},
   "source": [
    "## 2º Passo: A escolha do modelo"
   ]
  },
  {
   "cell_type": "markdown",
   "metadata": {},
   "source": [
    "Sabemos duas coisas principais sobre nosso problema:\n",
    "\n",
    "1. É um problema de **classificação**.\n",
    "2. É um problema de **aprendizado supervisionado**.\n",
    "\n",
    "Com isso em mente, devemos escolher o modelo mais adequado para a solução do problema. O Scikit-Learn possui uma grande quantidade de modelos pré \"moldados\", bastando apenas nós os treinarmos e otimizá-los."
   ]
  },
  {
   "cell_type": "code",
   "execution_count": null,
   "metadata": {
    "collapsed": false
   },
   "outputs": [],
   "source": [
    "from sklearn.neighbors import KNeighborsClassifier #Importando o classificador\n",
    "\n",
    "KNN = KNeighborsClassifier() #Criando uma instância do classificador\n",
    "\n",
    "print KNN"
   ]
  },
  {
   "cell_type": "markdown",
   "metadata": {},
   "source": [
    "## 3º Passo: Treinando o Modelo"
   ]
  },
  {
   "cell_type": "markdown",
   "metadata": {},
   "source": [
    "Já modelamos nosso problema e já escolhemos nosso primeiro modelo, agora devemos treinar o classificador. Para isso vamos usar apenas o conjunto de treino no treinamento, obedecendo assim a validação cruzada. Esse tipo de validação se chama **validação cruzada *holdout* **. Pois apenas separamos o conjunto de dados em 2 partes, uma para treino e uma para teste."
   ]
  },
  {
   "cell_type": "code",
   "execution_count": null,
   "metadata": {
    "collapsed": false
   },
   "outputs": [],
   "source": [
    "KNN.fit(X_train,y_train)"
   ]
  },
  {
   "cell_type": "markdown",
   "metadata": {},
   "source": [
    "## 4º Passo: Predizendo e Avaliando o Modelo"
   ]
  },
  {
   "cell_type": "markdown",
   "metadata": {},
   "source": [
    "Um erro metodológico grave, que bastante gente comete, é o cáculo da acurácia do modelo tendo como base o conjunto total ou o conjunto de treino utilizados durante o treinamento. Esse tipo de métrica não atesta a acurácia do modelo.\n",
    "\n",
    "O método correto para esse teste é utilizar o **conjunto de testes**, para assim atestar que o modelo se saiu bem o mal em dados \"nunca antes vistos\".\n",
    "\n",
    "O Scikit-Learn também possui uma biblioteca bem extensa, com diversas métricas, para a validação do modelo."
   ]
  },
  {
   "cell_type": "code",
   "execution_count": null,
   "metadata": {
    "collapsed": false
   },
   "outputs": [],
   "source": [
    "from sklearn.metrics import accuracy_score\n",
    "\n",
    "y_verdadeiro, y_predito = y_test, KNN.predict(X_test)\n",
    "\n",
    "print \"A acurácia do modelo é: \", accuracy_score(y_verdadeiro, y_predito)"
   ]
  },
  {
   "cell_type": "markdown",
   "metadata": {},
   "source": [
    "Outras métricas importantes para avaliar um classificador são:\n",
    "  * **Precisão**: Quando um valor verdadeiro positivo é predito, qual a frequência que a predição é correta.\n",
    "  * **Recall ou Sensibilidade**: É frequência com a qual a predição é correta.\n",
    "  * **F1-Score**: É a média harmônica entre Precisão e Recall."
   ]
  },
  {
   "cell_type": "code",
   "execution_count": null,
   "metadata": {
    "collapsed": false
   },
   "outputs": [],
   "source": [
    "from sklearn.metrics import classification_report\n",
    "\n",
    "print classification_report(y_verdadeiro, y_predito)"
   ]
  },
  {
   "cell_type": "markdown",
   "metadata": {},
   "source": [
    "Matrizes de Confusão são muito eficientes na inspeção visual dos resultados de modelo."
   ]
  },
  {
   "cell_type": "code",
   "execution_count": null,
   "metadata": {
    "collapsed": false
   },
   "outputs": [],
   "source": [
    "from sklearn.metrics import confusion_matrix\n",
    "\n",
    "cmx = confusion_matrix(y_verdadeiro,y_predito)\n",
    "\n",
    "print cmx #y = Label verdadeiro, x = label predito"
   ]
  },
  {
   "cell_type": "code",
   "execution_count": null,
   "metadata": {
    "collapsed": false
   },
   "outputs": [],
   "source": [
    "fig = plt.figure(figsize=(8, 8))  # O tamanho da figura em polegadas\n",
    "fig.subplots_adjust(left=0, right=1, bottom=0, top=1, hspace=0.05, wspace=0.05)\n",
    "\n",
    "# plota os dígitos: cada imagem tem o tamanho de 8x8 pixels\n",
    "for i in range(64):\n",
    "    ax = fig.add_subplot(8, 8, i + 1, xticks=[], yticks=[])\n",
    "    ax.imshow(x_teste.reshape(-1, 8, 8)[i], cmap=plt.cm.binary,\n",
    "              interpolation='nearest')\n",
    "    \n",
    "    # Marca o a imagem com o valor predito\n",
    "    if y_predito[i] == y_verdadeiro[i]:\n",
    "        ax.text(0, 7, str(y_predito[i]), color='green')\n",
    "    else:\n",
    "        ax.text(0, 7, str(y_predito[i]), color='red')"
   ]
  },
  {
   "cell_type": "code",
   "execution_count": null,
   "metadata": {
    "collapsed": true
   },
   "outputs": [],
   "source": []
  }
 ],
 "metadata": {
  "kernelspec": {
   "display_name": "Python 2",
   "language": "python",
   "name": "python2"
  },
  "language_info": {
   "codemirror_mode": {
    "name": "ipython",
    "version": 2
   },
   "file_extension": ".py",
   "mimetype": "text/x-python",
   "name": "python",
   "nbconvert_exporter": "python",
   "pygments_lexer": "ipython2",
   "version": "2.7.6"
  }
 },
 "nbformat": 4,
 "nbformat_minor": 0
}
