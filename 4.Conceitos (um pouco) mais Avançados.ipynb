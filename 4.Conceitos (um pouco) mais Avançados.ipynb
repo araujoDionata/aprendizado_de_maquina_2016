{
 "cells": [
  {
   "cell_type": "markdown",
   "metadata": {},
   "source": [
    "# *Tuning* de Parâmetros, Comparação de Modelos e Validação Cruzada *K-Fold*."
   ]
  },
  {
   "cell_type": "markdown",
   "metadata": {},
   "source": [
    "Como dito anteriormente, o objetivo de um modelo em ML é aprender a partir de dados. Porém, dados com labels, isto é, dados com o *y* são muito caros e valiosos. A validação cruzada *holdout* \"consome\" boa parte dos dados apenas para treinamento.\n",
    "\n",
    "A validação cruzada *K-Fold* divide os dados em *K* subconjuntos diferentes aleatoriamente, onde cada um destes subconjuntos é usado ao menos uma vez para validação (*K*-1) enquanto o resto é usado para treino. Apos esse processo, é feita a media da acurácia de cada fase da validação resultando assim na acuracia total do modelo. Geralmente *K*= 10.\n",
    "\n",
    "![title](k-fold.jpeg)"
   ]
  },
  {
   "cell_type": "markdown",
   "metadata": {},
   "source": [
    "Com essa divisão, podemos fazer uma busca exaustiva. Nessa busca, o modelo é testado com diversos parâmetros diferentes e a configuração que atingir a maior acurácia é escolhida."
   ]
  },
  {
   "cell_type": "markdown",
   "metadata": {},
   "source": [
    "## Tarefa: Crie uma *Support Vector Macine* e treine-a com o Dígitos Dataset"
   ]
  },
  {
   "cell_type": "code",
   "execution_count": null,
   "metadata": {
    "collapsed": true
   },
   "outputs": [],
   "source": [
    "from sklearn.svm import SVC #Importando o support vector classifier\n"
   ]
  },
  {
   "cell_type": "code",
   "execution_count": null,
   "metadata": {
    "collapsed": false
   },
   "outputs": [],
   "source": [
    "from sklearn.datasets import load_digits\n",
    "from sklearn.cross_validation import train_test_split #Importando a biblioteca de validação cruzada\n",
    "digits = load_digits() #Carrega o dataset na variável digits\n",
    "\n",
    "X,y = digits.data, digits.target\n",
    "\n",
    "\n",
    "X_train, X_test, y_train, y_test = train_test_split(X,y, test_size = 0.25, random_state = 42)"
   ]
  },
  {
   "cell_type": "code",
   "execution_count": null,
   "metadata": {
    "collapsed": true
   },
   "outputs": [],
   "source": [
    "classificador = SVC()"
   ]
  },
  {
   "cell_type": "code",
   "execution_count": null,
   "metadata": {
    "collapsed": false
   },
   "outputs": [],
   "source": [
    "classificador.fit(X_train, y_train)"
   ]
  },
  {
   "cell_type": "code",
   "execution_count": null,
   "metadata": {
    "collapsed": false
   },
   "outputs": [],
   "source": [
    "from sklearn.metrics import accuracy_score\n",
    "from sklearn.metrics import classification_report\n",
    "\n",
    "\n",
    "y_verdadeiro, y_predito = y_test, classificador.predict(X_test)\n",
    "\n",
    "print \"A acurácia do modelo é: \", accuracy_score(y_verdadeiro, y_predito)\n",
    "\n",
    "print classification_report(y_verdadeiro, y_predito)"
   ]
  },
  {
   "cell_type": "code",
   "execution_count": null,
   "metadata": {
    "collapsed": false
   },
   "outputs": [],
   "source": [
    "from sklearn.grid_search import GridSearchCV\n",
    "\n",
    "parametros = {'C': [1e2,1e3, 5e3, 1e4, 5e4, 1e5],\n",
    "              'gamma': [0.0001, 0.0005, 0.001, 0.005, 0.01, 0.1]}\n",
    "\n",
    "clf = GridSearchCV(SVC(kernel = 'rbf'), parametros, cv = 10, n_jobs = 4)\n",
    "\n",
    "clf.fit(X_train,y_train)\n",
    "\n"
   ]
  },
  {
   "cell_type": "code",
   "execution_count": null,
   "metadata": {
    "collapsed": false
   },
   "outputs": [],
   "source": [
    "y_verdadeiro, y_predito = y_test, clf.predict(X_test)"
   ]
  },
  {
   "cell_type": "code",
   "execution_count": null,
   "metadata": {
    "collapsed": false
   },
   "outputs": [],
   "source": [
    "print \"A acurácia do modelo é: \", accuracy_score(y_verdadeiro, y_predito)\n",
    "\n",
    "print classification_report(y_verdadeiro, y_predito)"
   ]
  },
  {
   "cell_type": "markdown",
   "metadata": {
    "collapsed": true
   },
   "source": [
    "## Tarefa: Faça o tuning de parâmetros utilizando uma KNN"
   ]
  },
  {
   "cell_type": "markdown",
   "metadata": {},
   "source": [
    "# Contato:\n",
    "\n",
    "**Email**: jpmarinho.martins@gmail.com\n",
    "\n",
    "**Github**: @jpvmm\n",
    "\n",
    "**Twitter**: @_jpmartins\n",
    "\n",
    "**Blog**: https://machinelearningbrasil.wordpress.com/\n"
   ]
  },
  {
   "cell_type": "code",
   "execution_count": null,
   "metadata": {
    "collapsed": true
   },
   "outputs": [],
   "source": []
  }
 ],
 "metadata": {
  "kernelspec": {
   "display_name": "Python 2",
   "language": "python",
   "name": "python2"
  },
  "language_info": {
   "codemirror_mode": {
    "name": "ipython",
    "version": 2
   },
   "file_extension": ".py",
   "mimetype": "text/x-python",
   "name": "python",
   "nbconvert_exporter": "python",
   "pygments_lexer": "ipython2",
   "version": "2.7.6"
  }
 },
 "nbformat": 4,
 "nbformat_minor": 0
}
