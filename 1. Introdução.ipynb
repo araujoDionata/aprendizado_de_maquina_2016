{
 "cells": [
  {
   "cell_type": "markdown",
   "metadata": {},
   "source": [
    "# IPython Notebooks"
   ]
  },
  {
   "cell_type": "markdown",
   "metadata": {},
   "source": [
    " * Você pode rodar uma célula com [shift] + [Enter] ou apertando o botão de \"Play\" no menu acima\n",
    " * Pressione [Esc] para comandos de célula\n",
    " "
   ]
  },
  {
   "cell_type": "markdown",
   "metadata": {},
   "source": [
    "## NumPy Arrays"
   ]
  },
  {
   "cell_type": "markdown",
   "metadata": {},
   "source": [
    "* A classe objeto array é a característica principal do NumPy, são como listas no Python, porém é otimizado para computações numéricas.  \n",
    "* Todos os elementos de um array devem ser do mesmo tipo!"
   ]
  },
  {
   "cell_type": "code",
   "execution_count": null,
   "metadata": {
    "collapsed": false
   },
   "outputs": [],
   "source": [
    "import numpy as np\n",
    "\n",
    "#Gerando um array aleatório\n",
    "X = np.random.random((3,5)) # Um array 3 x 5\n",
    "\n",
    "print X"
   ]
  },
  {
   "cell_type": "code",
   "execution_count": null,
   "metadata": {
    "collapsed": false
   },
   "outputs": [],
   "source": [
    "#Acessando elementos do array\n",
    "\n",
    "print \"O primeiro elemento do meu array é: \", X[0,0] #Pega o elemento na posição [0,0] do array\n",
    "\n",
    "print \"A minha linha de posição 1 é: \" , X[1] #Pega a linha 1 do array\n",
    "\n",
    "#IMPORTANTE: A \"CONTAGEM\" NO NUMPY COMEÇA DA POSIÇÃO 0\n",
    "\n",
    "print \"A minha coluna de posição 1 é: \" , X[:,1]"
   ]
  },
  {
   "cell_type": "code",
   "execution_count": null,
   "metadata": {
    "collapsed": false
   },
   "outputs": [],
   "source": [
    "#Transpondo um array\n",
    "print X.T"
   ]
  },
  {
   "cell_type": "code",
   "execution_count": null,
   "metadata": {
    "collapsed": false
   },
   "outputs": [],
   "source": [
    "#Descobrindo o shape de um array\n",
    "print X.shape #Array normal\n",
    "print X.T.shape #Array transposto"
   ]
  },
  {
   "cell_type": "markdown",
   "metadata": {},
   "source": [
    "# Matemática com Arrays"
   ]
  },
  {
   "cell_type": "markdown",
   "metadata": {},
   "source": [
    "* As operações matemáticas nos arrays são realizadas elemento por elemento. Isso quer dizer que os arrays devem ter o mesmo tamanho durante as operações."
   ]
  },
  {
   "cell_type": "code",
   "execution_count": null,
   "metadata": {
    "collapsed": false
   },
   "outputs": [],
   "source": [
    "#Criando 2 novos arrays\n",
    "a = np.array([[1,2], [3,4]], float) #Criando um array 2x2\n",
    "b = np.array([[5,6],[7,8]], float) #Criando um array 2x2\n",
    "\n",
    "print a, \"\\n\"\n",
    "print b"
   ]
  },
  {
   "cell_type": "code",
   "execution_count": null,
   "metadata": {
    "collapsed": false
   },
   "outputs": [],
   "source": [
    "#Operações matemáticas\n",
    "print a + b, \"\\n\"\n",
    "\n",
    "print a - b, \"\\n\"\n",
    "\n",
    "print a*b, \"\\n\" #Em arrays de 2 dimensões a multiplicação também é elemento por elemento, não correspondendo\n",
    "                #a multiplicação de matrizes"
   ]
  },
  {
   "cell_type": "markdown",
   "metadata": {},
   "source": [
    "# Iteração em Arrays"
   ]
  },
  {
   "cell_type": "markdown",
   "metadata": {},
   "source": [
    "* É possível iterar em arrays de maneiras similares a listas"
   ]
  },
  {
   "cell_type": "code",
   "execution_count": null,
   "metadata": {
    "collapsed": false
   },
   "outputs": [],
   "source": [
    "#Iterando nos elementos de um array\n",
    "for x in a:\n",
    "    print x"
   ]
  },
  {
   "cell_type": "code",
   "execution_count": null,
   "metadata": {
    "collapsed": false
   },
   "outputs": [],
   "source": [
    "for (x,y) in a:\n",
    "    print x*y"
   ]
  },
  {
   "cell_type": "markdown",
   "metadata": {},
   "source": [
    "# Extraindo Informações de Arrays"
   ]
  },
  {
   "cell_type": "markdown",
   "metadata": {},
   "source": [
    "* É possível extrair propriedades de arrays inteiros utilizando algumas funções Python"
   ]
  },
  {
   "cell_type": "code",
   "execution_count": null,
   "metadata": {
    "collapsed": false
   },
   "outputs": [],
   "source": [
    "print a.sum(), \"\\n\" #Somatório de todos os elementos do array\n",
    "\n",
    "print a.prod(), \"\\n\" #Extraindo o produto do array, de cada eixo\n",
    "\n",
    "print a.mean(), \"\\n\" #Extraindo a média\n",
    "\n",
    "print a.var(), \"\\n\" #Extraindo a variância\n",
    "\n",
    "print a.std(), \"\\n\" #Extraindo o desvio padrão\n",
    "\n",
    "print a.max(), \"\\n\" #Extraindo o valor máximo\n",
    "\n",
    "print a.min(), \"\\n\" #Extraindo o valor mínimo"
   ]
  },
  {
   "cell_type": "code",
   "execution_count": null,
   "metadata": {
    "collapsed": true
   },
   "outputs": [],
   "source": []
  }
 ],
 "metadata": {
  "kernelspec": {
   "display_name": "Python 2",
   "language": "python",
   "name": "python2"
  },
  "language_info": {
   "codemirror_mode": {
    "name": "ipython",
    "version": 2
   },
   "file_extension": ".py",
   "mimetype": "text/x-python",
   "name": "python",
   "nbconvert_exporter": "python",
   "pygments_lexer": "ipython2",
   "version": "2.7.6"
  }
 },
 "nbformat": 4,
 "nbformat_minor": 0
}
