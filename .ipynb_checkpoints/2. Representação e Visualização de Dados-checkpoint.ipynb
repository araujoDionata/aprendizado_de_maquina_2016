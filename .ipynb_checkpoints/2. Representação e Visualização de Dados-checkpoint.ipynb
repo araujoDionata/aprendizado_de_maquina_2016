{
 "cells": [
  {
   "cell_type": "markdown",
   "metadata": {},
   "source": [
    "# Representação e Visualização de Dados"
   ]
  },
  {
   "cell_type": "markdown",
   "metadata": {
    "collapsed": true
   },
   "source": [
    "Aprendizado de Máquina é focado em criar modelos a partir de dados *(desenvolvimento data-driven)*. Por essa razão a visualização e a representação de dados são muito importantes para o modelo.\n",
    "\n",
    "Em um problema de aprendizado **supervisionado** o conjunto de dados é constituído de um **X** e um **y**. Onde o **X** representa as observações feitas e o **y** representa o \"resultado\" da observação.\n",
    "\n",
    "Em um problema de aprendizado **não supervisionado** o conjunto de dados conta apenas com as observações, **X**, e o modelo deve estabelecer o que elas significam."
   ]
  },
  {
   "cell_type": "markdown",
   "metadata": {},
   "source": [
    "## Modelos de Dados no Scikit-Learn"
   ]
  },
  {
   "cell_type": "markdown",
   "metadata": {},
   "source": [
    "Os dados no scikit-learn, com algumas raras exceções, **devem ser armazenados em arrays com duas dimensões**. Essas dimensões são: [n_amostras, n_características].\n",
    "  * **n_amostras**: O número de amostras que você tem no seu conjunto de dados. Cada amostra é um item a ser processado. Uma amostra pode ser um documento, foto, som, video etc...\n",
    "  * **n_características**: São as características que descrevem uma amostra de uma maneira quantitativa. Ex: em um documento as palavras do texto podem ser suas características.\n",
    "\n",
    "É desejado que o número de características para cada amostra seja fixo, mas existem modelos capazes de lidar com essas diferenças.\n",
    "\n",
    "Então, cada amostra é uma linha no array de dados e cada características é uma coluna."
   ]
  },
  {
   "cell_type": "markdown",
   "metadata": {},
   "source": [
    "# O *Hello World* do Aprendizado de Máquina: \"Dígitos Dataset\""
   ]
  },
  {
   "cell_type": "markdown",
   "metadata": {},
   "source": [
    "O scikit-learn vem com alguns conjuntos de dados padrões para teste dos modelos desenvolvidos. Um conjunto de dados é um objeto no estilo dicionário do Python que contém todos os dados, e alguns metadados, sobre o conjunto de estudo.\n",
    "\n",
    "Para a nossa oficina vamos trabalhar com o conjunto de dados que contém informações sobre dígitos escritos a mão."
   ]
  },
  {
   "cell_type": "markdown",
   "metadata": {},
   "source": [
    "## Carregando os Dados"
   ]
  },
  {
   "cell_type": "code",
   "execution_count": null,
   "metadata": {
    "collapsed": false
   },
   "outputs": [],
   "source": [
    "from sklearn.datasets import load_digits\n",
    "digits = load_digits() #Carrega o dataset na variável digits\n",
    "type(digits)"
   ]
  },
  {
   "cell_type": "code",
   "execution_count": null,
   "metadata": {
    "collapsed": false
   },
   "outputs": [],
   "source": [
    "digits.keys() #Carrega as keys do dataset"
   ]
  },
  {
   "cell_type": "code",
   "execution_count": null,
   "metadata": {
    "collapsed": false
   },
   "outputs": [],
   "source": [
    "print digits.data.shape #Carrega os \"dados\" principais do dataset"
   ]
  },
  {
   "cell_type": "code",
   "execution_count": null,
   "metadata": {
    "collapsed": false
   },
   "outputs": [],
   "source": [
    "digits.target"
   ]
  },
  {
   "cell_type": "markdown",
   "metadata": {},
   "source": [
    "### Pergunta: Qual características dos dígitos esse conjuntos de dados representa?"
   ]
  },
  {
   "cell_type": "markdown",
   "metadata": {},
   "source": [
    "## Visualizando as Imagens com Matplotlib"
   ]
  },
  {
   "cell_type": "markdown",
   "metadata": {},
   "source": [
    "Matplotlib é uma biblioteca para plots 2D e 3D na linguagem Python. Com ela você pode gerar gráficos, histogramas, espectros, gráficos de barras e uma infinidade de outras coisas.\n",
    "\n",
    "\"Matplotlib tenta fazer coisas fáceis ainda mais fáceis e coisas difíceis possíveis.\""
   ]
  },
  {
   "cell_type": "code",
   "execution_count": null,
   "metadata": {
    "collapsed": false
   },
   "outputs": [],
   "source": [
    "digits.images.shape #Shape das imagens"
   ]
  },
  {
   "cell_type": "code",
   "execution_count": null,
   "metadata": {
    "collapsed": false
   },
   "outputs": [],
   "source": [
    "%matplotlib inline\n",
    "import matplotlib.pyplot as plt #Importa a interface pyplot\n",
    "import matplotlib.cm as cm #Importa a interface para color maps\n",
    "\n",
    "plt.imshow(digits.images[8], cmap = cm.Greys_r) #Plotando a primeira imagem do conjunto em um mapa de cores em\n",
    "                                                # escalas de cinza\n",
    "plt.show() #Mostra a imagem"
   ]
  }
 ],
 "metadata": {
  "kernelspec": {
   "display_name": "Python 2",
   "language": "python",
   "name": "python2"
  },
  "language_info": {
   "codemirror_mode": {
    "name": "ipython",
    "version": 2
   },
   "file_extension": ".py",
   "mimetype": "text/x-python",
   "name": "python",
   "nbconvert_exporter": "python",
   "pygments_lexer": "ipython2",
   "version": "2.7.6"
  }
 },
 "nbformat": 4,
 "nbformat_minor": 0
}
